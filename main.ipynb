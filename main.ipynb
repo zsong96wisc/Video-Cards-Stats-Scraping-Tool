{
 "cells": [
  {
   "cell_type": "code",
   "execution_count": 1,
   "metadata": {},
   "outputs": [],
   "source": [
    "import requests\n",
    "from bs4 import BeautifulSoup \n",
    "import os\n",
    "import pandas as pd"
   ]
  },
  {
   "cell_type": "code",
   "execution_count": 2,
   "metadata": {},
   "outputs": [],
   "source": [
    "final_stats_list = []\n",
    "flag = \"a\""
   ]
  },
  {
   "cell_type": "code",
   "execution_count": 3,
   "metadata": {},
   "outputs": [],
   "source": [
    "def download(filename, url):\n",
    "    if os.path.exists(filename):\n",
    "        return (str(filename) + \" already exists!\")\n",
    "\n",
    "    r = requests.get(url)\n",
    "    r.raise_for_status()\n",
    "    \n",
    "    f = open(filename, \"w\", encoding=\"utf-8\")\n",
    "    f.write(r.text)\n",
    "    f.close()\n",
    "\n",
    "    return (str(filename) + \" created!\")"
   ]
  },
  {
   "cell_type": "code",
   "execution_count": 4,
   "metadata": {},
   "outputs": [],
   "source": [
    "def scrape_from_web(model_name):\n",
    "    filename = \"_\".join(model_name.split()) + \".html\"\n",
    "    url = \"https://www.ebay.com/sch/i.html?_from=R40&_trksid=p2380057.m570.l1313&_nkw=\" + \\\n",
    "        \"+\".join(model_name.split()) + \"&_sacat=0\"\n",
    "    download(filename, url)\n",
    "    return filename"
   ]
  },
  {
   "cell_type": "code",
   "execution_count": 5,
   "metadata": {},
   "outputs": [],
   "source": [
    "def parse_HTML(filename):\n",
    "    file_path = os.path.join(\".\", filename)\n",
    "    HTML_file = open(file_path, \"r\", encoding='UTF-8')\n",
    "    index = HTML_file.read()\n",
    "    doc = BeautifulSoup(index, \"html.parser\")\n",
    "    return doc"
   ]
  },
  {
   "cell_type": "code",
   "execution_count": 6,
   "metadata": {},
   "outputs": [],
   "source": [
    "def generate_current_price(doc):\n",
    "    goods_list = []\n",
    "    \n",
    "    prices = doc.find_all(\"span\", {\"class\" : \"s-item__price\"})\n",
    "    item_names = doc.find_all(\"h3\", {\"class\" : \"s-item__title\"})[1:]\n",
    "    subtitles = doc.find_all(\"div\", {\"class\" : \"s-item__subtitle\"})\n",
    "    \n",
    "    for index in range (min(len(prices), len(item_names), len(subtitles))):\n",
    "        product = [item_names[index].getText(), prices[index].getText(), subtitles[index].getText()]\n",
    "        goods_list.append(product)\n",
    "\n",
    "    df = pd.DataFrame(goods_list, columns = ['Item_Names', 'Prices', \"Subtitles\"])\n",
    "    \n",
    "    brand_new_df = df[df[\"Subtitles\"] == \"Brand New\"]\n",
    "    \n",
    "    price_series = df[\"Prices\"].apply(price_extract).apply(price_correction)\n",
    "\n",
    "    return round(price_series.astype(float).mean(), 2)"
   ]
  },
  {
   "cell_type": "code",
   "execution_count": 7,
   "metadata": {},
   "outputs": [],
   "source": [
    "def price_extract(price):\n",
    "    return price[1:]"
   ]
  },
  {
   "cell_type": "code",
   "execution_count": 8,
   "metadata": {},
   "outputs": [],
   "source": [
    "def price_correction(price):\n",
    "    return price.replace(\",\", \"\")"
   ]
  },
  {
   "cell_type": "code",
   "execution_count": 9,
   "metadata": {},
   "outputs": [],
   "source": [
    "def generate_new_report(brand, model_name, model_year, original_sticker_price, current_avg_price):\n",
    "    percent_increase = round((current_avg_price - original_sticker_price) / original_sticker_price * 100, 2)\n",
    "    percent_incr_str = str(percent_increase) + \"%\"\n",
    "    \n",
    "    final_stats_list.append([current_avg_price, original_sticker_price, \\\n",
    "        percent_incr_str, \"eBay\", model_name, model_year, brand])\n",
    "    \n",
    "    print(final_stats_list)"
   ]
  },
  {
   "cell_type": "code",
   "execution_count": 10,
   "metadata": {},
   "outputs": [],
   "source": [
    "def generate_csv_file():\n",
    "    dataframe = pd.DataFrame(final_stats_list, columns = [\"current price\", \"original staicker price\", \\\n",
    "        \"% increase in price\", \"site\", \"model name\", \"model year\", \"brand\"])\n",
    "    dataframe.to_csv(\"AMD_cards_stats.csv\")"
   ]
  },
  {
   "cell_type": "code",
   "execution_count": 11,
   "metadata": {},
   "outputs": [
    {
     "name": "stdout",
     "output_type": "stream",
     "text": [
      "What is the brand of the video card: AMD\n",
      "What is the model name: Radeon RX 6800\n",
      "What is the model year: 2020\n",
      "What is the original sticker price of the video card: 579\n",
      "[[1189.0, 579.0, '105.35%', 'eBay', 'Radeon RX 6800', '2020', 'AMD']]\n",
      "Do you want to continue for next model: c\n",
      "What is the brand of the video card: AMD\n",
      "What is the model name: Radeon RX 6700 XT\n",
      "What is the model year: 2021\n",
      "What is the original sticker price of the video card: 479\n",
      "[[1189.0, 579.0, '105.35%', 'eBay', 'Radeon RX 6800', '2020', 'AMD'], [838.72, 479.0, '75.1%', 'eBay', 'Radeon RX 6700 XT', '2021', 'AMD']]\n",
      "Do you want to continue for next model: c\n",
      "What is the brand of the video card: AMD\n",
      "What is the model name: Radeon RX 5600 XT\n",
      "What is the model year: 2020\n",
      "What is the original sticker price of the video card: 279\n",
      "[[1189.0, 579.0, '105.35%', 'eBay', 'Radeon RX 6800', '2020', 'AMD'], [838.72, 479.0, '75.1%', 'eBay', 'Radeon RX 6700 XT', '2021', 'AMD'], [655.86, 279.0, '135.08%', 'eBay', 'Radeon RX 5600 XT', '2020', 'AMD']]\n",
      "Do you want to continue for next model: c\n",
      "What is the brand of the video card: AMD\n",
      "What is the model name: Radeon RX 5700 XT\n",
      "What is the model year: 2019\n",
      "What is the original sticker price of the video card: 349\n",
      "[[1189.0, 579.0, '105.35%', 'eBay', 'Radeon RX 6800', '2020', 'AMD'], [838.72, 479.0, '75.1%', 'eBay', 'Radeon RX 6700 XT', '2021', 'AMD'], [655.86, 279.0, '135.08%', 'eBay', 'Radeon RX 5600 XT', '2020', 'AMD'], [826.39, 349.0, '136.79%', 'eBay', 'Radeon RX 5700 XT', '2019', 'AMD']]\n",
      "Do you want to continue for next model: c\n",
      "What is the brand of the video card: AMD\n",
      "What is the model name: Radeon RX 6800 XT\n",
      "What is the model year: 2020\n",
      "What is the original sticker price of the video card: 649\n",
      "[[1189.0, 579.0, '105.35%', 'eBay', 'Radeon RX 6800', '2020', 'AMD'], [838.72, 479.0, '75.1%', 'eBay', 'Radeon RX 6700 XT', '2021', 'AMD'], [655.86, 279.0, '135.08%', 'eBay', 'Radeon RX 5600 XT', '2020', 'AMD'], [826.39, 349.0, '136.79%', 'eBay', 'Radeon RX 5700 XT', '2019', 'AMD'], [1320.45, 649.0, '103.46%', 'eBay', 'Radeon RX 6800 XT', '2020', 'AMD']]\n",
      "Do you want to continue for next model: c\n",
      "What is the brand of the video card: AMD\n",
      "What is the model name: Radeon RX 5500 XT\n",
      "What is the model year: 2019\n",
      "What is the original sticker price of the video card: 169\n",
      "[[1189.0, 579.0, '105.35%', 'eBay', 'Radeon RX 6800', '2020', 'AMD'], [838.72, 479.0, '75.1%', 'eBay', 'Radeon RX 6700 XT', '2021', 'AMD'], [655.86, 279.0, '135.08%', 'eBay', 'Radeon RX 5600 XT', '2020', 'AMD'], [826.39, 349.0, '136.79%', 'eBay', 'Radeon RX 5700 XT', '2019', 'AMD'], [1320.45, 649.0, '103.46%', 'eBay', 'Radeon RX 6800 XT', '2020', 'AMD'], [476.38, 169.0, '181.88%', 'eBay', 'Radeon RX 5500 XT', '2019', 'AMD']]\n",
      "Do you want to continue for next model: c\n",
      "What is the brand of the video card: AMD\n",
      "What is the model name: Radeon RX 570\n",
      "What is the model year: 2017\n",
      "What is the original sticker price of the video card: 169\n",
      "[[1189.0, 579.0, '105.35%', 'eBay', 'Radeon RX 6800', '2020', 'AMD'], [838.72, 479.0, '75.1%', 'eBay', 'Radeon RX 6700 XT', '2021', 'AMD'], [655.86, 279.0, '135.08%', 'eBay', 'Radeon RX 5600 XT', '2020', 'AMD'], [826.39, 349.0, '136.79%', 'eBay', 'Radeon RX 5700 XT', '2019', 'AMD'], [1320.45, 649.0, '103.46%', 'eBay', 'Radeon RX 6800 XT', '2020', 'AMD'], [476.38, 169.0, '181.88%', 'eBay', 'Radeon RX 5500 XT', '2019', 'AMD'], [273.31, 169.0, '61.72%', 'eBay', 'Radeon RX 570', '2017', 'AMD']]\n",
      "Do you want to continue for next model: c\n",
      "What is the brand of the video card: AMD\n",
      "What is the model name: Radeon RX 560\n",
      "What is the model year: 2017\n",
      "What is the original sticker price of the video card: 99\n",
      "[[1189.0, 579.0, '105.35%', 'eBay', 'Radeon RX 6800', '2020', 'AMD'], [838.72, 479.0, '75.1%', 'eBay', 'Radeon RX 6700 XT', '2021', 'AMD'], [655.86, 279.0, '135.08%', 'eBay', 'Radeon RX 5600 XT', '2020', 'AMD'], [826.39, 349.0, '136.79%', 'eBay', 'Radeon RX 5700 XT', '2019', 'AMD'], [1320.45, 649.0, '103.46%', 'eBay', 'Radeon RX 6800 XT', '2020', 'AMD'], [476.38, 169.0, '181.88%', 'eBay', 'Radeon RX 5500 XT', '2019', 'AMD'], [273.31, 169.0, '61.72%', 'eBay', 'Radeon RX 570', '2017', 'AMD'], [224.57, 99.0, '126.84%', 'eBay', 'Radeon RX 560', '2017', 'AMD']]\n",
      "Do you want to continue for next model: q\n"
     ]
    }
   ],
   "source": [
    "while (flag != \"q\" and flag != \"quit\"):\n",
    "    flag = \"a\"\n",
    "    brand = input(\"What is the brand of the video card: \")\n",
    "    model_name = input(\"What is the model name: \")\n",
    "    model_year = input(\"What is the model year: \")\n",
    "    original_sticker_price = float(input(\"What is the original sticker price of the video card: \"))\n",
    "    \n",
    "    file_name = scrape_from_web(model_name)\n",
    "    \n",
    "    document = parse_HTML(file_name)\n",
    "    \n",
    "    current_avg_price = generate_current_price(document)\n",
    "    \n",
    "    generate_new_report(brand, model_name, model_year, original_sticker_price, current_avg_price)\n",
    "    \n",
    "    while (flag != \"q\" and flag != \"c\"):\n",
    "        flag = input(\"Do you want to continue for next model: \")\n",
    "        \n",
    "generate_csv_file()"
   ]
  }
 ],
 "metadata": {
  "kernelspec": {
   "display_name": "Python 3",
   "language": "python",
   "name": "python3"
  },
  "language_info": {
   "codemirror_mode": {
    "name": "ipython",
    "version": 3
   },
   "file_extension": ".py",
   "mimetype": "text/x-python",
   "name": "python",
   "nbconvert_exporter": "python",
   "pygments_lexer": "ipython3",
   "version": "3.8.5"
  }
 },
 "nbformat": 4,
 "nbformat_minor": 4
}
